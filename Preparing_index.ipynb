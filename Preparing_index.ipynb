{
 "cells": [
  {
   "cell_type": "markdown",
   "id": "351d7b27",
   "metadata": {},
   "source": [
    "# Filtering the data\n",
    "***\n",
    "\n",
    "This notebook goes through the process of filtering the original data for training\n",
    "\n",
    "**Contents**\n",
    "\n",
    "1. [Binding affinity table](#Binding-affinity-table)\n",
    "1. [Removing entries](#Removing-entries)\n",
    "    1. [Binding data](#Binding-data)\n",
    "    1. [Ligands](#Ligands)"
   ]
  },
  {
   "cell_type": "markdown",
   "id": "10ed9eb0",
   "metadata": {},
   "source": [
    "## Binding affinity table"
   ]
  },
  {
   "cell_type": "markdown",
   "id": "powered-tsunami",
   "metadata": {},
   "source": [
    "The index file from the PDBbind dataset contains all the protein-ligand complex ID (`PDB_ID`), the ligand name in the complex (`ligand_name`), and its binding affinity to the protein in the complex (in `-logKd/Ki` and `Kd/Ki`)."
   ]
  },
  {
   "cell_type": "code",
   "execution_count": 1,
   "id": "wrapped-tracker",
   "metadata": {},
   "outputs": [],
   "source": [
    "import pandas as pd\n",
    "\n",
    "# reading the index file into a Pandas DataFrame \n",
    "df = pd.read_csv(\"D:\\\\binding_data\\\\INDEX_general_PL_data_2020.csv\")"
   ]
  },
  {
   "cell_type": "code",
   "execution_count": 2,
   "id": "awful-vanilla",
   "metadata": {},
   "outputs": [
    {
     "data": {
      "text/html": [
       "<div>\n",
       "<style scoped>\n",
       "    .dataframe tbody tr th:only-of-type {\n",
       "        vertical-align: middle;\n",
       "    }\n",
       "\n",
       "    .dataframe tbody tr th {\n",
       "        vertical-align: top;\n",
       "    }\n",
       "\n",
       "    .dataframe thead th {\n",
       "        text-align: right;\n",
       "    }\n",
       "</style>\n",
       "<table border=\"1\" class=\"dataframe\">\n",
       "  <thead>\n",
       "    <tr style=\"text-align: right;\">\n",
       "      <th></th>\n",
       "      <th>PDB_ID</th>\n",
       "      <th>resolution</th>\n",
       "      <th>release_year</th>\n",
       "      <th>-logKd/Ki</th>\n",
       "      <th>Kd/Ki</th>\n",
       "      <th>reference</th>\n",
       "      <th>ligand_name</th>\n",
       "    </tr>\n",
       "  </thead>\n",
       "  <tbody>\n",
       "    <tr>\n",
       "      <th>0</th>\n",
       "      <td>3zzf</td>\n",
       "      <td>2.2</td>\n",
       "      <td>2012</td>\n",
       "      <td>0.40</td>\n",
       "      <td>Ki=400mM</td>\n",
       "      <td>3zzf.pdf</td>\n",
       "      <td>(NLG)</td>\n",
       "    </tr>\n",
       "    <tr>\n",
       "      <th>1</th>\n",
       "      <td>3gww</td>\n",
       "      <td>2.46</td>\n",
       "      <td>2009</td>\n",
       "      <td>0.45</td>\n",
       "      <td>IC50=355mM</td>\n",
       "      <td>3gwu.pdf</td>\n",
       "      <td>(SFX)</td>\n",
       "    </tr>\n",
       "    <tr>\n",
       "      <th>2</th>\n",
       "      <td>1w8l</td>\n",
       "      <td>1.8</td>\n",
       "      <td>2004</td>\n",
       "      <td>0.49</td>\n",
       "      <td>Ki=320mM</td>\n",
       "      <td>1w8l.pdf</td>\n",
       "      <td>(1P3)</td>\n",
       "    </tr>\n",
       "    <tr>\n",
       "      <th>3</th>\n",
       "      <td>3fqa</td>\n",
       "      <td>2.35</td>\n",
       "      <td>2009</td>\n",
       "      <td>0.49</td>\n",
       "      <td>IC50=320mM</td>\n",
       "      <td>3fq7.pdf</td>\n",
       "      <td>(GAB&amp;PMP)</td>\n",
       "    </tr>\n",
       "    <tr>\n",
       "      <th>4</th>\n",
       "      <td>1zsb</td>\n",
       "      <td>2</td>\n",
       "      <td>1996</td>\n",
       "      <td>0.60</td>\n",
       "      <td>Kd=250mM</td>\n",
       "      <td>1zsb.pdf</td>\n",
       "      <td>(AZM)</td>\n",
       "    </tr>\n",
       "  </tbody>\n",
       "</table>\n",
       "</div>"
      ],
      "text/plain": [
       "  PDB_ID resolution  release_year  -logKd/Ki       Kd/Ki reference ligand_name\n",
       "0   3zzf        2.2          2012       0.40    Ki=400mM  3zzf.pdf       (NLG)\n",
       "1   3gww       2.46          2009       0.45  IC50=355mM  3gwu.pdf       (SFX)\n",
       "2   1w8l        1.8          2004       0.49    Ki=320mM  1w8l.pdf       (1P3)\n",
       "3   3fqa       2.35          2009       0.49  IC50=320mM  3fq7.pdf   (GAB&PMP)\n",
       "4   1zsb          2          1996       0.60    Kd=250mM  1zsb.pdf       (AZM)"
      ]
     },
     "execution_count": 2,
     "metadata": {},
     "output_type": "execute_result"
    }
   ],
   "source": [
    "df.head()"
   ]
  },
  {
   "cell_type": "code",
   "execution_count": 3,
   "id": "heavy-majority",
   "metadata": {},
   "outputs": [
    {
     "name": "stdout",
     "output_type": "stream",
     "text": [
      "<class 'pandas.core.frame.DataFrame'>\n",
      "RangeIndex: 19443 entries, 0 to 19442\n",
      "Data columns (total 7 columns):\n",
      " #   Column        Non-Null Count  Dtype  \n",
      "---  ------        --------------  -----  \n",
      " 0   PDB_ID        19443 non-null  object \n",
      " 1   resolution    19443 non-null  object \n",
      " 2   release_year  19443 non-null  int64  \n",
      " 3   -logKd/Ki     19443 non-null  float64\n",
      " 4   Kd/Ki         19443 non-null  object \n",
      " 5   reference     19443 non-null  object \n",
      " 6   ligand_name   19443 non-null  object \n",
      "dtypes: float64(1), int64(1), object(5)\n",
      "memory usage: 1.0+ MB\n"
     ]
    }
   ],
   "source": [
    "df.info()"
   ]
  },
  {
   "cell_type": "markdown",
   "id": "duplicate-details",
   "metadata": {},
   "source": [
    "There are a total of 19443 entries\n",
    "\n",
    "They will need to be filtered down, but first, some of the columns can be removed, since they're not needed: `resolution`, `release_year` and `reference`"
   ]
  },
  {
   "cell_type": "code",
   "execution_count": 4,
   "id": "documentary-warner",
   "metadata": {},
   "outputs": [],
   "source": [
    "df = df.drop(['resolution', 'release_year', 'reference'], axis=1)"
   ]
  },
  {
   "cell_type": "markdown",
   "id": "israeli-spider",
   "metadata": {},
   "source": [
    "## Removing entries\n",
    "\n",
    "The next step is to remove entries that have issues or irregularities regarding the binding data or the ligands. \n",
    "\n",
    "### Binding data\n",
    "\n",
    "Regargind the binding affinity, the entries that mathced the following criteria were removed:\n",
    "* the binding affinity is reported as an IC50 value (in the `Kd/Ki` column), since it is considered to be of lower accuracy.\n",
    "* the binding affinity is reported with a `~` sign, which suggests that it is an approximation"
   ]
  },
  {
   "cell_type": "markdown",
   "id": "f9585757",
   "metadata": {},
   "source": [
    "There are 132 approximate entries and 7152 with affinity reported as IC50:"
   ]
  },
  {
   "cell_type": "code",
   "execution_count": 5,
   "id": "d30d56f1",
   "metadata": {},
   "outputs": [
    {
     "name": "stdout",
     "output_type": "stream",
     "text": [
      "Approximate values: 132\n",
      "IC50 values: 7152\n"
     ]
    }
   ],
   "source": [
    "approx_c = 0\n",
    "ic50_c = 0\n",
    "for i in df.index:\n",
    "    if '~' in df['Kd/Ki'][i]:\n",
    "        approx_c+=1\n",
    "    elif 'IC50' in df['Kd/Ki'][i]:\n",
    "        ic50_c+=1\n",
    "print('Approximate values: {}\\nIC50 values: {}'.format(approx_c, ic50_c))"
   ]
  },
  {
   "cell_type": "markdown",
   "id": "224ff227",
   "metadata": {},
   "source": [
    "Removing the approximate and IC50 values:"
   ]
  },
  {
   "cell_type": "code",
   "execution_count": 6,
   "id": "beginning-stupid",
   "metadata": {},
   "outputs": [],
   "source": [
    "for i in df.index:\n",
    "    if ('IC50' in df['Kd/Ki'][i]) or ('~' in df['Kd/Ki'][i]):\n",
    "        df.drop(i, inplace=True)"
   ]
  },
  {
   "cell_type": "code",
   "execution_count": 7,
   "id": "79d48b98",
   "metadata": {},
   "outputs": [],
   "source": [
    "# resetting the DataFrame index\n",
    "df.reset_index(drop=True, inplace=True)"
   ]
  },
  {
   "cell_type": "code",
   "execution_count": 8,
   "id": "51290dba",
   "metadata": {},
   "outputs": [
    {
     "data": {
      "text/plain": [
       "(12159, 4)"
      ]
     },
     "execution_count": 8,
     "metadata": {},
     "output_type": "execute_result"
    }
   ],
   "source": [
    "df.shape"
   ]
  },
  {
   "cell_type": "markdown",
   "id": "518e52eb",
   "metadata": {},
   "source": [
    "### Ligands"
   ]
  },
  {
   "cell_type": "markdown",
   "id": "2da1e22d",
   "metadata": {},
   "source": [
    "We will check every ligand that does not conform to the general pattern of naming which contains numbers and uppercase letters, because they will cause issues when trying to download some of them from the Protein Data Bank (see file Molecular_descriptors.ipynb for details)"
   ]
  },
  {
   "cell_type": "code",
   "execution_count": 9,
   "id": "a2c7af40",
   "metadata": {},
   "outputs": [],
   "source": [
    "# list that will hold the ligands that do not conform to the general naming scheme\n",
    "nonconformists = []\n",
    "\n",
    "# accepted characters in the ligand ID\n",
    "accepted = 'ABCDEFGHIJKLMNOPQRSTUVWXYZ1234567890'\n",
    "\n",
    "# list with the unique ligand names found in the DataFrame\n",
    "unique_ligands = [i.strip('()') for i in list(df['ligand_name'].unique())]\n",
    "\n",
    "# check if ligands conform, otherwise insert them in the 'nonconformists' list\n",
    "for lig in unique_ligands:\n",
    "    for char in lig:\n",
    "        if char not in accepted:\n",
    "            nonconformists.append(lig)\n",
    "            break"
   ]
  },
  {
   "cell_type": "code",
   "execution_count": 10,
   "id": "fb19518d",
   "metadata": {},
   "outputs": [
    {
     "data": {
      "text/plain": [
       "105"
      ]
     },
     "execution_count": 10,
     "metadata": {},
     "output_type": "execute_result"
    }
   ],
   "source": [
    "len(nonconformists)"
   ]
  },
  {
   "cell_type": "markdown",
   "id": "3da6bc7e",
   "metadata": {},
   "source": [
    "There are 105 ligands with unusual IDs\n",
    "\n",
    "The problematic symbols are going to be identified next:"
   ]
  },
  {
   "cell_type": "code",
   "execution_count": 11,
   "id": "2a308822",
   "metadata": {
    "scrolled": false
   },
   "outputs": [],
   "source": [
    "# identifying the uniuqe symbols that come up in the data\n",
    "symbols = []\n",
    "for lig in nonconformists:\n",
    "    for char in lig:\n",
    "        if char not in accepted and char not in symbols:\n",
    "            symbols.append(char)"
   ]
  },
  {
   "cell_type": "markdown",
   "id": "11bd3229",
   "metadata": {},
   "source": [
    "The following are the symbols that were identified. There are some lowercase letters too."
   ]
  },
  {
   "cell_type": "code",
   "execution_count": 12,
   "id": "601210a4",
   "metadata": {},
   "outputs": [
    {
     "data": {
      "text/plain": [
       "['-', 'm', 'e', 'r', '_', '/', 'c', '&', 'h', 'q', '.', '+', 'o', 'x', 's']"
      ]
     },
     "execution_count": 12,
     "metadata": {},
     "output_type": "execute_result"
    }
   ],
   "source": [
    "symbols"
   ]
  },
  {
   "cell_type": "markdown",
   "id": "8d998f81",
   "metadata": {},
   "source": [
    "The occurrences of some of the symbols will be counted below"
   ]
  },
  {
   "cell_type": "code",
   "execution_count": 13,
   "id": "446a6c9a",
   "metadata": {},
   "outputs": [],
   "source": [
    "symbols_subset = ['&', '-', 'mer', '_', '/', '.', '+', 'c']\n",
    "counts = {}\n",
    "for ligand in nonconformists:\n",
    "    for s in symbols_subset:\n",
    "        if s in ligand:\n",
    "            counts.setdefault(s, 0)\n",
    "            counts[s] += 1"
   ]
  },
  {
   "cell_type": "code",
   "execution_count": 14,
   "id": "3319eb5b",
   "metadata": {},
   "outputs": [
    {
     "data": {
      "text/plain": [
       "{'-': 72, 'mer': 20, '_': 9, '/': 16, 'c': 1, '&': 5, '.': 2, '+': 1}"
      ]
     },
     "execution_count": 14,
     "metadata": {},
     "output_type": "execute_result"
    }
   ],
   "source": [
    "counts"
   ]
  },
  {
   "cell_type": "code",
   "execution_count": 15,
   "id": "93ba6c7d",
   "metadata": {},
   "outputs": [],
   "source": [
    "under = [ligand for ligand in nonconformists if '_' in ligand]"
   ]
  },
  {
   "cell_type": "code",
   "execution_count": 16,
   "id": "6b06f05d",
   "metadata": {
    "scrolled": true
   },
   "outputs": [
    {
     "data": {
      "text/plain": [
       "['_Y3',\n",
       " '__U',\n",
       " '__N',\n",
       " '_VI',\n",
       " 'FMN_hq',\n",
       " '_MC',\n",
       " '9LQ_18-mer',\n",
       " 'FMN_ox',\n",
       " 'FMN_sq',\n",
       " '_CG',\n",
       " '_VX',\n",
       " '_T3']"
      ]
     },
     "execution_count": 16,
     "metadata": {},
     "output_type": "execute_result"
    }
   ],
   "source": [
    "under"
   ]
  },
  {
   "cell_type": "markdown",
   "id": "f9cbc794",
   "metadata": {},
   "source": [
    "In the original work, `FMN_`*x* ligands were renamed simply `FMN`, which is a mistake, but it likely had a small impact considering that the total number of ligands that contained `FMN` was small (19)"
   ]
  },
  {
   "cell_type": "markdown",
   "id": "060c69c5",
   "metadata": {},
   "source": [
    "Entries that have `+`, `&`, `/`, `_`, `.` or `-` in the ligand name can be removed, since they contain either multiple ligands bound to the protein, cannot be found on the Protein Data Bank, or are *n*-mers (like 3-mer, a short polymer made from 3 amino acids), which are not in the scope of this project."
   ]
  },
  {
   "cell_type": "code",
   "execution_count": 17,
   "id": "3eda3ecf",
   "metadata": {},
   "outputs": [],
   "source": [
    "to_drop = ['+', '&', '/', '-', '_', '.']\n",
    "\n",
    "for i in df.index:\n",
    "    for d in to_drop:\n",
    "        if (d in df['ligand_name'][i]) and (('q' not in df['ligand_name'][i]) or ('x' not in df['ligand_name'][i])):\n",
    "            df.drop(i, inplace=True)\n",
    "            break"
   ]
  },
  {
   "cell_type": "code",
   "execution_count": 18,
   "id": "fc2a3a3c",
   "metadata": {},
   "outputs": [],
   "source": [
    "# resetting the DataFrame index\n",
    "df.reset_index(drop=True, inplace=True)"
   ]
  },
  {
   "cell_type": "code",
   "execution_count": 19,
   "id": "c1a2ac07",
   "metadata": {
    "scrolled": true
   },
   "outputs": [
    {
     "data": {
      "text/plain": [
       "(9762, 4)"
      ]
     },
     "execution_count": 19,
     "metadata": {},
     "output_type": "execute_result"
    }
   ],
   "source": [
    "df.shape"
   ]
  },
  {
   "cell_type": "markdown",
   "id": "edadb519",
   "metadata": {},
   "source": [
    "The rest of the 155 entries were removed because of problems with the ligands in Mordred and/or they couldn't be found on the Protein Data Bank\n",
    "\n",
    "After their removal, the final list of protein-ligand complexes had 9607 entries, and the list of PDB IDs was used for further data sourcing and processing."
   ]
  }
 ],
 "metadata": {
  "kernelspec": {
   "display_name": "Python 3",
   "language": "python",
   "name": "python3"
  },
  "language_info": {
   "codemirror_mode": {
    "name": "ipython",
    "version": 3
   },
   "file_extension": ".py",
   "mimetype": "text/x-python",
   "name": "python",
   "nbconvert_exporter": "python",
   "pygments_lexer": "ipython3",
   "version": "3.7.6"
  }
 },
 "nbformat": 4,
 "nbformat_minor": 5
}
